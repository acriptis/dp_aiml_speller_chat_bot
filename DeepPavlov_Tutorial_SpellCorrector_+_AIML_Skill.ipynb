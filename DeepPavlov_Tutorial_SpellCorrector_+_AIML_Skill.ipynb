{
  "nbformat": 4,
  "nbformat_minor": 0,
  "metadata": {
    "colab": {
      "name": "DeepPavlov Tutorial: SpellCorrector + AIML Skill.ipynb",
      "version": "0.3.2",
      "provenance": [],
      "collapsed_sections": []
    },
    "kernelspec": {
      "name": "python3",
      "display_name": "Python 3"
    }
  },
  "cells": [
    {
      "cell_type": "markdown",
      "metadata": {
        "id": "2wF-8znzUDvt",
        "colab_type": "text"
      },
      "source": [
        "# Simple AIML Chatbot with Spell Corrector\n",
        "In this tutorial we develop a simple AIML Chatbot with DeepPavlov library which uses Spell Corrector for correcting misspelled user inputs to increase robustness of AIML Kernel in handling dialog. \n"
      ]
    },
    {
      "cell_type": "markdown",
      "metadata": {
        "id": "lKVtPKO4VCBV",
        "colab_type": "text"
      },
      "source": [
        "# Requirements\n",
        "First, install all required packages:"
      ]
    },
    {
      "cell_type": "code",
      "metadata": {
        "id": "-BmW-MoGjqxk",
        "colab_type": "code",
        "colab": {
          "base_uri": "https://localhost:8080/",
          "height": 817
        },
        "outputId": "bb2c296c-21b4-4fc0-e60e-f6115cbb79f7"
      },
      "source": [
        "!pip install deeppavlov"
      ],
      "execution_count": 1,
      "outputs": [
        {
          "output_type": "stream",
          "text": [
            "Requirement already satisfied: deeppavlov in /usr/local/lib/python3.6/dist-packages (0.4.0)\n",
            "Requirement already satisfied: fuzzywuzzy==0.16.0 in /usr/local/lib/python3.6/dist-packages (from deeppavlov) (0.16.0)\n",
            "Requirement already satisfied: pyopenssl==18.0.0 in /usr/local/lib/python3.6/dist-packages (from deeppavlov) (18.0.0)\n",
            "Requirement already satisfied: flask-cors==3.0.6 in /usr/local/lib/python3.6/dist-packages (from deeppavlov) (3.0.6)\n",
            "Requirement already satisfied: nltk==3.2.5 in /usr/local/lib/python3.6/dist-packages (from deeppavlov) (3.2.5)\n",
            "Requirement already satisfied: Cython==0.28.5 in /usr/local/lib/python3.6/dist-packages (from deeppavlov) (0.28.5)\n",
            "Requirement already satisfied: keras==2.2.0 in /usr/local/lib/python3.6/dist-packages (from deeppavlov) (2.2.0)\n",
            "Requirement already satisfied: pytelegrambotapi==3.5.2 in /usr/local/lib/python3.6/dist-packages (from deeppavlov) (3.5.2)\n",
            "Requirement already satisfied: pymorphy2==0.8 in /usr/local/lib/python3.6/dist-packages (from deeppavlov) (0.8)\n",
            "Requirement already satisfied: numpy==1.14.5 in /usr/local/lib/python3.6/dist-packages (from deeppavlov) (1.14.5)\n",
            "Requirement already satisfied: pymorphy2-dicts-ru in /usr/local/lib/python3.6/dist-packages (from deeppavlov) (2.4.404381.4453942)\n",
            "Requirement already satisfied: tqdm==4.23.4 in /usr/local/lib/python3.6/dist-packages (from deeppavlov) (4.23.4)\n",
            "Requirement already satisfied: flask==1.0.2 in /usr/local/lib/python3.6/dist-packages (from deeppavlov) (1.0.2)\n",
            "Requirement already satisfied: rusenttokenize==0.0.4 in /usr/local/lib/python3.6/dist-packages (from deeppavlov) (0.0.4)\n",
            "Requirement already satisfied: requests==2.19.1 in /usr/local/lib/python3.6/dist-packages (from deeppavlov) (2.19.1)\n",
            "Requirement already satisfied: h5py==2.8.0 in /usr/local/lib/python3.6/dist-packages (from deeppavlov) (2.8.0)\n",
            "Requirement already satisfied: flasgger==0.9.1 in /usr/local/lib/python3.6/dist-packages (from deeppavlov) (0.9.1)\n",
            "Requirement already satisfied: pandas==0.23.1 in /usr/local/lib/python3.6/dist-packages (from deeppavlov) (0.23.1)\n",
            "Requirement already satisfied: overrides==1.9 in /usr/local/lib/python3.6/dist-packages (from deeppavlov) (1.9)\n",
            "Requirement already satisfied: scikit-learn==0.19.1 in /usr/local/lib/python3.6/dist-packages (from deeppavlov) (0.19.1)\n",
            "Requirement already satisfied: scipy==1.1.0 in /usr/local/lib/python3.6/dist-packages (from deeppavlov) (1.1.0)\n",
            "Requirement already satisfied: cryptography>=2.2.1 in /usr/local/lib/python3.6/dist-packages (from pyopenssl==18.0.0->deeppavlov) (2.7)\n",
            "Requirement already satisfied: six>=1.5.2 in /usr/local/lib/python3.6/dist-packages (from pyopenssl==18.0.0->deeppavlov) (1.12.0)\n",
            "Requirement already satisfied: keras-applications==1.0.2 in /usr/local/lib/python3.6/dist-packages (from keras==2.2.0->deeppavlov) (1.0.2)\n",
            "Requirement already satisfied: pyyaml in /usr/local/lib/python3.6/dist-packages (from keras==2.2.0->deeppavlov) (3.13)\n",
            "Requirement already satisfied: keras-preprocessing==1.0.1 in /usr/local/lib/python3.6/dist-packages (from keras==2.2.0->deeppavlov) (1.0.1)\n",
            "Requirement already satisfied: docopt>=0.6 in /usr/local/lib/python3.6/dist-packages (from pymorphy2==0.8->deeppavlov) (0.6.2)\n",
            "Requirement already satisfied: pymorphy2-dicts<3.0,>=2.4 in /usr/local/lib/python3.6/dist-packages (from pymorphy2==0.8->deeppavlov) (2.4.393442.3710985)\n",
            "Requirement already satisfied: dawg-python>=0.7 in /usr/local/lib/python3.6/dist-packages (from pymorphy2==0.8->deeppavlov) (0.7.2)\n",
            "Requirement already satisfied: click>=5.1 in /usr/local/lib/python3.6/dist-packages (from flask==1.0.2->deeppavlov) (7.0)\n",
            "Requirement already satisfied: itsdangerous>=0.24 in /usr/local/lib/python3.6/dist-packages (from flask==1.0.2->deeppavlov) (1.1.0)\n",
            "Requirement already satisfied: Jinja2>=2.10 in /usr/local/lib/python3.6/dist-packages (from flask==1.0.2->deeppavlov) (2.10.1)\n",
            "Requirement already satisfied: Werkzeug>=0.14 in /usr/local/lib/python3.6/dist-packages (from flask==1.0.2->deeppavlov) (0.15.4)\n",
            "Requirement already satisfied: idna<2.8,>=2.5 in /usr/local/lib/python3.6/dist-packages (from requests==2.19.1->deeppavlov) (2.7)\n",
            "Requirement already satisfied: chardet<3.1.0,>=3.0.2 in /usr/local/lib/python3.6/dist-packages (from requests==2.19.1->deeppavlov) (3.0.4)\n",
            "Requirement already satisfied: certifi>=2017.4.17 in /usr/local/lib/python3.6/dist-packages (from requests==2.19.1->deeppavlov) (2019.3.9)\n",
            "Requirement already satisfied: urllib3<1.24,>=1.21.1 in /usr/local/lib/python3.6/dist-packages (from requests==2.19.1->deeppavlov) (1.23)\n",
            "Requirement already satisfied: jsonschema>=2.5.1 in /usr/local/lib/python3.6/dist-packages (from flasgger==0.9.1->deeppavlov) (2.6.0)\n",
            "Requirement already satisfied: mistune in /usr/local/lib/python3.6/dist-packages (from flasgger==0.9.1->deeppavlov) (0.8.4)\n",
            "Requirement already satisfied: pytz>=2011k in /usr/local/lib/python3.6/dist-packages (from pandas==0.23.1->deeppavlov) (2018.9)\n",
            "Requirement already satisfied: python-dateutil>=2.5.0 in /usr/local/lib/python3.6/dist-packages (from pandas==0.23.1->deeppavlov) (2.5.3)\n",
            "Requirement already satisfied: asn1crypto>=0.21.0 in /usr/local/lib/python3.6/dist-packages (from cryptography>=2.2.1->pyopenssl==18.0.0->deeppavlov) (0.24.0)\n",
            "Requirement already satisfied: cffi!=1.11.3,>=1.8 in /usr/local/lib/python3.6/dist-packages (from cryptography>=2.2.1->pyopenssl==18.0.0->deeppavlov) (1.12.3)\n",
            "Requirement already satisfied: MarkupSafe>=0.23 in /usr/local/lib/python3.6/dist-packages (from Jinja2>=2.10->flask==1.0.2->deeppavlov) (1.1.1)\n",
            "Requirement already satisfied: pycparser in /usr/local/lib/python3.6/dist-packages (from cffi!=1.11.3,>=1.8->cryptography>=2.2.1->pyopenssl==18.0.0->deeppavlov) (2.19)\n"
          ],
          "name": "stdout"
        }
      ]
    },
    {
      "cell_type": "markdown",
      "metadata": {
        "id": "og-XUQ1LVVg-",
        "colab_type": "text"
      },
      "source": [
        "# Load AIML script and configuration\n"
      ]
    },
    {
      "cell_type": "code",
      "metadata": {
        "id": "Ie_3ZjIrlj5P",
        "colab_type": "code",
        "colab": {}
      },
      "source": [
        "%%bash\n",
        "mkdir -p configs\n",
        "mkdir -p aiml_scripts\n",
        "wget -q https://raw.githubusercontent.com/deepmipt/dp_aiml_speller_chat_bot/master/configs/speller_aiml_bot.json -O configs/speller_aiml_bot.json\n",
        "wget -q https://raw.githubusercontent.com/deepmipt/dp_aiml_speller_chat_bot/master/aiml_scripts/basic_chat.aiml -O aiml_scripts/basic_chat.aiml"
      ],
      "execution_count": 0,
      "outputs": []
    },
    {
      "cell_type": "markdown",
      "metadata": {
        "id": "vG4ObSlZVhER",
        "colab_type": "text"
      },
      "source": [
        "# AIML Script\n",
        "AIML scripts specifies the strategy of dialog system:"
      ]
    },
    {
      "cell_type": "code",
      "metadata": {
        "id": "wGNccL5UoZTA",
        "colab_type": "code",
        "colab": {
          "base_uri": "https://localhost:8080/",
          "height": 763
        },
        "outputId": "6476cf6a-f441-47b2-b2ed-c2b52fb8ccc7"
      },
      "source": [
        "!cat aiml_scripts/basic_chat.aiml"
      ],
      "execution_count": 36,
      "outputs": [
        {
          "output_type": "stream",
          "text": [
            "<aiml version=\"2.1\" encoding=\"UTF-8\">\n",
            "    <!-- basic_chat.aiml -->\n",
            "\n",
            "    <category>\n",
            "        <pattern>HELLO</pattern>\n",
            "        <template>\n",
            "            <random>\n",
            "                <li>Hello, friend! How are you?</li>\n",
            "                <li>Hi, it is a nice day today, isn't it?</li>\n",
            "                <li>Bom dia!</li>\n",
            "            </random>\n",
            "        </template>\n",
            "    </category>\n",
            "\n",
            "    <category>\n",
            "        <pattern>HOW ARE YOU</pattern>\n",
            "        <template>\n",
            "            <random>\n",
            "                <li>I am a robot, haha!</li>\n",
            "                <li>Everything is alright</li>\n",
            "                <li>Nice, hope you are better!</li>\n",
            "            </random>\n",
            "\n",
            "        </template>\n",
            "    </category>\n",
            "    <category>\n",
            "        <pattern>One day I *</pattern>\n",
            "        <template>\n",
            "            <random>\n",
            "                <li>Continue</li>\n",
            "                <li>How old are you?</li>\n",
            "                <li>Tell me more</li>\n",
            "                <li>I had not known this!</li>\n",
            "                <li>Are you talking the truth?</li>\n",
            "                <li>I’m guessing why do you tell me about that...</li>\n",
            "                <li>Tell me the same briefly, please</li>\n",
            "                <li>Are you talk about animal, vegetable or mineral?</li>\n",
            "                <li>What?</li>\n",
            "            </random>\n",
            "        </template>\n",
            "    </category>\n",
            "\n",
            "</aiml>\n"
          ],
          "name": "stdout"
        }
      ]
    },
    {
      "cell_type": "markdown",
      "metadata": {
        "id": "csrkpZ2UV2Ms",
        "colab_type": "text"
      },
      "source": [
        "# Install dependencies of AIML and Spell Corrector\n",
        "\n"
      ]
    },
    {
      "cell_type": "code",
      "metadata": {
        "id": "31_24vfhqazB",
        "colab_type": "code",
        "colab": {
          "base_uri": "https://localhost:8080/",
          "height": 817
        },
        "outputId": "f1a50549-4bee-4d96-a270-4236dbb8969f"
      },
      "source": [
        "!python -m deeppavlov install configs/speller_aiml_bot.json"
      ],
      "execution_count": 26,
      "outputs": [
        {
          "output_type": "stream",
          "text": [
            "Collecting python-aiml==0.9.1\n",
            "\u001b[?25l  Downloading https://files.pythonhosted.org/packages/0a/4f/441770b04a0233f41c4168660b458ff6ab8587a6d304c934c6359eb223ef/python-aiml-0.9.1.zip (2.1MB)\n",
            "\u001b[K     |████████████████████████████████| 2.2MB 2.8MB/s \n",
            "\u001b[?25hRequirement already satisfied: setuptools in /usr/local/lib/python3.6/dist-packages (from python-aiml==0.9.1) (41.0.1)\n",
            "Building wheels for collected packages: python-aiml\n",
            "  Building wheel for python-aiml (setup.py) ... \u001b[?25l\u001b[?25hdone\n",
            "  Stored in directory: /root/.cache/pip/wheels/a3/2b/24/3e30e3e2029d06e77ca15f85a8a84675a063d0136c28f66e60\n",
            "Successfully built python-aiml\n",
            "Installing collected packages: python-aiml\n",
            "Successfully installed python-aiml-0.9.1\n",
            "Collecting lxml==4.1.1\n",
            "\u001b[?25l  Downloading https://files.pythonhosted.org/packages/81/da/4fabb01d59f3d2b256e75ffee9516ea849e23ddebea8235caad570fe7332/lxml-4.1.1-cp36-cp36m-manylinux1_x86_64.whl (5.6MB)\n",
            "\u001b[K     |████████████████████████████████| 5.6MB 2.7MB/s \n",
            "\u001b[?25hInstalling collected packages: lxml\n",
            "  Found existing installation: lxml 4.2.6\n",
            "    Uninstalling lxml-4.2.6:\n",
            "      Successfully uninstalled lxml-4.2.6\n",
            "Successfully installed lxml-4.1.1\n",
            "Collecting python-Levenshtein==0.12.0\n",
            "\u001b[?25l  Downloading https://files.pythonhosted.org/packages/42/a9/d1785c85ebf9b7dfacd08938dd028209c34a0ea3b1bcdb895208bd40a67d/python-Levenshtein-0.12.0.tar.gz (48kB)\n",
            "\u001b[K     |████████████████████████████████| 51kB 2.0MB/s \n",
            "\u001b[?25hRequirement already satisfied: setuptools in /usr/local/lib/python3.6/dist-packages (from python-Levenshtein==0.12.0) (41.0.1)\n",
            "Building wheels for collected packages: python-Levenshtein\n",
            "  Building wheel for python-Levenshtein (setup.py) ... \u001b[?25l\u001b[?25hdone\n",
            "  Stored in directory: /root/.cache/pip/wheels/de/c2/93/660fd5f7559049268ad2dc6d81c4e39e9e36518766eaf7e342\n",
            "Successfully built python-Levenshtein\n",
            "Installing collected packages: python-Levenshtein\n",
            "Successfully installed python-Levenshtein-0.12.0\n",
            "Collecting kenlm from git+https://github.com/kpu/kenlm.git@328cc2995202e84d29e3773203d29cdd6cc07132#egg=kenlm\n",
            "  Cloning https://github.com/kpu/kenlm.git (to revision 328cc2995202e84d29e3773203d29cdd6cc07132) to /tmp/pip-install-hab8lrxh/kenlm\n",
            "  Running command git clone -q https://github.com/kpu/kenlm.git /tmp/pip-install-hab8lrxh/kenlm\n",
            "  Running command git checkout -q 328cc2995202e84d29e3773203d29cdd6cc07132\n",
            "Building wheels for collected packages: kenlm\n",
            "  Building wheel for kenlm (setup.py) ... \u001b[?25l\u001b[?25hdone\n",
            "  Stored in directory: /tmp/pip-ephem-wheel-cache-5klclzmb/wheels/b6/26/7f/dc443cf77351ae585e351b0308aab7beeaf1f347ad91ae972e\n",
            "Successfully built kenlm\n",
            "Installing collected packages: kenlm\n",
            "Successfully installed kenlm-0.0.0\n",
            "Collecting sortedcontainers==2.0.2\n",
            "  Downloading https://files.pythonhosted.org/packages/de/20/1403d968975ff68eef437793d11d0f4798709f441870de1a4e240c859c19/sortedcontainers-2.0.2-py2.py3-none-any.whl\n",
            "Installing collected packages: sortedcontainers\n",
            "  Found existing installation: sortedcontainers 2.1.0\n",
            "    Uninstalling sortedcontainers-2.1.0:\n",
            "      Successfully uninstalled sortedcontainers-2.1.0\n",
            "Successfully installed sortedcontainers-2.0.2\n"
          ],
          "name": "stdout"
        }
      ]
    },
    {
      "cell_type": "code",
      "metadata": {
        "id": "TjsuPQ-X0D-P",
        "colab_type": "code",
        "colab": {}
      },
      "source": [
        "!cat configs/speller_aiml_bot.json"
      ],
      "execution_count": 0,
      "outputs": []
    },
    {
      "cell_type": "markdown",
      "metadata": {
        "id": "rPd-lJwvWBq1",
        "colab_type": "text"
      },
      "source": [
        "# Interact with chatbot using DeepPavlov interaction console\n",
        "\n",
        "DeepPavlov let you to test the component with interactive console. You need to call DeepPavlov `interact` command and provide config of your component. Option `-d` instructs deeppavlov to downlaod data dependencies of the config automatically (data dependencies may be specified in `metadata.download` section of the config)\n",
        "\n",
        "Be patient: Spell Corrector requires about 5GB of data to be downloaded at first run and it may require some time. After that you'll see a console where you can write messages and observe reactions of the component."
      ]
    },
    {
      "cell_type": "code",
      "metadata": {
        "id": "NT_izSaItNfr",
        "colab_type": "code",
        "colab": {}
      },
      "source": [
        "!python -m deeppavlov interact configs/speller_aiml_bot.json -d\n"
      ],
      "execution_count": 0,
      "outputs": []
    },
    {
      "cell_type": "markdown",
      "metadata": {
        "id": "IZhn15iDYn-O",
        "colab_type": "text"
      },
      "source": [
        "# About Us\n",
        "\n",
        "We are iPavlov, our story started in 2017 when we decided to build a conversational AI framework that on the one hand will contain all required NLP components to build chatbots and on the other hand will be easy to use. Our work resulted in releasing DeepPavlov library. Our lab at MIPT is honored with Facebook AI Academic Partnership and NVIDIA GPU Research Center status. We successfully combine research and extreme coding in our week-long DeepHack.me hackathons — DeepHack.Game, DeepHack.Q&A and DeepHack.RL. We serve a global AI community by organizing NIPS Conversational Challenge to evaluate state-of-the-art techniques in the field of dialog systems and collect open source dialog datasets.\n",
        "\n",
        "# Useful links\n",
        "\n",
        "[DeepPavlov repository](https://github.com/deepmipt/DeepPavlov)\n",
        "\n",
        "[DeepPavlov demo page](https://demo.ipavlov.ai)\n",
        "\n",
        "[DeepPavlov documentation](https://docs.deeppavlov.ai)"
      ]
    }
  ]
}